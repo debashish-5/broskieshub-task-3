{
 "cells": [
  {
   "cell_type": "code",
   "execution_count": null,
   "id": "85fdb865-1c07-447c-a7d3-20dcda12f8d6",
   "metadata": {},
   "outputs": [],
   "source": [
    "import requests\n",
    "from bs4 import BeautifulSoup\n",
    "import json\n",
    "\n",
    "headers = {\"User-Agent\": \"Mozilla/5.0\"}\n",
    "url = \"https://www.bbc.com/news\"\n",
    "\n",
    "resp = requests.get(url, headers=headers)\n",
    "resp.raise_for_status()\n",
    "soup = BeautifulSoup(resp.text, \"html.parser\")\n",
    "\n",
    "# Try static headlines first\n",
    "headlines = [h.get_text(strip=True) for h in soup.select(\"h3.gs-c-promo-heading__title\")]\n",
    "\n",
    "if headlines:\n",
    "    print(\"Headlines from BBC News front page:\")\n",
    "    for i, title in enumerate(headlines[:10], 1):\n",
    "        print(f\"{i}. {title}\")\n",
    "else:\n",
    "    # Fallback: parse embedded JSON on individual article pages\n",
    "    script = soup.select_one(\"#__NEXT_DATA__\")\n",
    "    if script:\n",
    "        data = json.loads(script.text)\n",
    "        page = next(v for k,v in data[\"props\"][\"pageProps\"][\"page\"].items() if k.startswith(\"@\"))\n",
    "        headline = next(c for c in page[\"contents\"] if c[\"type\"] == \"headline\")\n",
    "        print(\"Headline:\", headline[\"model\"][\"blocks\"][0][\"model\"][\"text\"])\n",
    "    else:\n",
    "        print(\"No headlines found with either method.\")"
   ]
  },
  {
   "cell_type": "code",
   "execution_count": null,
   "id": "5f623db6-94f9-49f4-bc58-2d0e5aa769ce",
   "metadata": {},
   "outputs": [],
   "source": []
  }
 ],
 "metadata": {
  "kernelspec": {
   "display_name": "Python 3 (ipykernel)",
   "language": "python",
   "name": "python3"
  },
  "language_info": {
   "codemirror_mode": {
    "name": "ipython",
    "version": 3
   },
   "file_extension": ".py",
   "mimetype": "text/x-python",
   "name": "python",
   "nbconvert_exporter": "python",
   "pygments_lexer": "ipython3",
   "version": "3.12.7"
  }
 },
 "nbformat": 4,
 "nbformat_minor": 5
}
